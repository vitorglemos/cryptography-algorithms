{
 "cells": [
  {
   "cell_type": "code",
   "execution_count": 19,
   "metadata": {},
   "outputs": [],
   "source": [
    "import rsa\n",
    "\n",
    "def generate_keys_criptography(len_keys: int):\n",
    "    return rsa.newkeys(len_keys)\n",
    "\n",
    "def crypto_msg(msg: str, public_key):\n",
    "    return rsa.encrypt(msg.encode('utf8'), public_key)\n",
    "\n",
    "def decrypto_msg(msg_crypto: str, private_key):\n",
    "    return rsa.decrypt(msg_crypto, private_key)"
   ]
  },
  {
   "cell_type": "code",
   "execution_count": 20,
   "metadata": {},
   "outputs": [],
   "source": [
    "public_key, private_key = generate_keys_criptography(512)"
   ]
  },
  {
   "cell_type": "code",
   "execution_count": 22,
   "metadata": {},
   "outputs": [
    {
     "name": "stdout",
     "output_type": "stream",
     "text": [
      "rsa msg: \n",
      " b\"M/\\x87\\xcc\\xd48\\x06J\\xe1\\x17\\xac\\x8d\\xa8\\xe1F'\\xc8\\xf2\\x15_\\xed\\x18\\x06\\xa1\\xeco\\xef\\xe1\\x05\\xa0\\xa9\\x88CX\\xc7gu\\xc7S\\x1a\\xc1\\xf6,*\\xa2\\x89%g\\xcf\\x96\\x14r\\x1fN\\xde9\\x04bnQ\\xc4\\xee\\xc6\\x7f\"\n"
     ]
    }
   ],
   "source": [
    "msg = \"Barack Obama served as the 44th President of the US.\"\n",
    "msg_crypto = crypto_msg(msg, public_key)\n",
    "print(f'rsa msg: \\n {msg_crypto}')"
   ]
  },
  {
   "cell_type": "code",
   "execution_count": 26,
   "metadata": {},
   "outputs": [
    {
     "name": "stdout",
     "output_type": "stream",
     "text": [
      "txt msg: \n",
      " b'Barack Obama served as the 44th President of the US.'\n"
     ]
    }
   ],
   "source": [
    "msg_decrypto = decrypto_msg(msg_crypto, private_key)\n",
    "print(f'txt msg: \\n {msg_decrypto}')"
   ]
  }
 ],
 "metadata": {
  "kernelspec": {
   "display_name": "Python 3",
   "language": "python",
   "name": "python3"
  },
  "language_info": {
   "codemirror_mode": {
    "name": "ipython",
    "version": 3
   },
   "file_extension": ".py",
   "mimetype": "text/x-python",
   "name": "python",
   "nbconvert_exporter": "python",
   "pygments_lexer": "ipython3",
   "version": "3.8.10"
  }
 },
 "nbformat": 4,
 "nbformat_minor": 4
}
