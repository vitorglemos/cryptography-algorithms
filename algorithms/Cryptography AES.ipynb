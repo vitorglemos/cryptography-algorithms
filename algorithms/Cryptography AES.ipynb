{
 "cells": [
  {
   "cell_type": "code",
   "execution_count": 142,
   "metadata": {},
   "outputs": [],
   "source": [
    "from Cryptodome.Cipher import AES"
   ]
  },
  {
   "cell_type": "code",
   "execution_count": 143,
   "metadata": {},
   "outputs": [],
   "source": [
    "password_key = b'This is my key12'\n",
    "password_hash = hashlib.sha256(password_key).digest()"
   ]
  },
  {
   "cell_type": "code",
   "execution_count": 144,
   "metadata": {},
   "outputs": [
    {
     "name": "stdout",
     "output_type": "stream",
     "text": [
      "password text: b'This is my key12'\n",
      "password hash: b'(\\x9a\\xb1\\x01C\\x89\\xba\\x10\\x15\\x1f\\xd6DXH\\xd4\\xe8vF\\xed\\xe1\\xe3&m\\x14\\xa8a\\x03\\x9ax\\x90\\xb5\\xf1'\n",
      "Length of password bytes is 16.\n"
     ]
    }
   ],
   "source": [
    "print(f'password text: {password_key}')\n",
    "print(f'password hash: {password_hash}')\n",
    "print(f'Length of password bytes is {len(password_key)}.')"
   ]
  },
  {
   "cell_type": "code",
   "execution_count": 158,
   "metadata": {},
   "outputs": [],
   "source": [
    "def crypto_msg(password_key: bytes, msg: bytes):\n",
    "    cipher = AES.new(password_key, AES.MODE_EAX)\n",
    "    crypto_nonce = cipher.nonce\n",
    "    msg_crypto = cipher.encrypt(msg)\n",
    "    return msg_crypto, crypto_nonce\n",
    "\n",
    "def decrypto_msg(password_key: bytes, msg_crypto: bytes, crypto_nonce: bytes):\n",
    "    cipher = AES.new(key, AES.MODE_EAX, nonce=crypto_nonce)\n",
    "    return cipher.decrypt(msg_crypto)"
   ]
  },
  {
   "cell_type": "code",
   "execution_count": 159,
   "metadata": {},
   "outputs": [],
   "source": [
    "msg_crypto, crypto_nonce = crypto_msg(password_key, b'This is an importante message')\n",
    "print()"
   ]
  },
  {
   "cell_type": "code",
   "execution_count": 155,
   "metadata": {},
   "outputs": [
    {
     "data": {
      "text/plain": [
       "b'This is an importante message'"
      ]
     },
     "execution_count": 155,
     "metadata": {},
     "output_type": "execute_result"
    }
   ],
   "source": [
    "decrypto_msg(b'This is my key12', msg_crypto, crypto_nonce)"
   ]
  },
  {
   "cell_type": "code",
   "execution_count": null,
   "metadata": {},
   "outputs": [],
   "source": []
  },
  {
   "cell_type": "code",
   "execution_count": null,
   "metadata": {},
   "outputs": [],
   "source": [
    "msg = \"this\"\n",
    "\n",
    "from Cryptodome.Cipher import AES\n",
    "\n",
    "key = b'Sixteen byte key'\n",
    "msg = b'ola tudo bem'\n",
    "cipher = AES.new(key, AES.MODE_EAX)\n",
    "nonce = cipher.nonce\n",
    "ciphertext, tag = cipher.encrypt_and_digest(msg)"
   ]
  },
  {
   "cell_type": "code",
   "execution_count": 148,
   "metadata": {},
   "outputs": [],
   "source": [
    "from Cryptodome.Cipher import AES\n",
    "\n",
    "password_key = b'Sixteen byte key'\n",
    "cipher = AES.new(key, AES.MODE_EAX)\n",
    "#>>>\n",
    "nonce = cipher.nonce\n",
    "#ciphertext, tag = cipher.encrypt_and_digest(data)"
   ]
  },
  {
   "cell_type": "code",
   "execution_count": 149,
   "metadata": {},
   "outputs": [],
   "source": [
    "ciphertext = cipher.encrypt(msg)"
   ]
  },
  {
   "cell_type": "code",
   "execution_count": 150,
   "metadata": {},
   "outputs": [],
   "source": [
    "cipher = AES.new(key, AES.MODE_EAX, nonce=nonce)\n",
    "plaintext = cipher.decrypt(ciphertext)"
   ]
  },
  {
   "cell_type": "code",
   "execution_count": 151,
   "metadata": {},
   "outputs": [
    {
     "data": {
      "text/plain": [
       "b'ola tudo bem'"
      ]
     },
     "execution_count": 151,
     "metadata": {},
     "output_type": "execute_result"
    }
   ],
   "source": [
    "plaintext"
   ]
  },
  {
   "cell_type": "code",
   "execution_count": null,
   "metadata": {},
   "outputs": [],
   "source": []
  },
  {
   "cell_type": "code",
   "execution_count": 152,
   "metadata": {},
   "outputs": [
    {
     "data": {
      "text/plain": [
       "b'U\\xf4H<\\ry#-\\x1c\\x87\\x01\\x04'"
      ]
     },
     "execution_count": 152,
     "metadata": {},
     "output_type": "execute_result"
    }
   ],
   "source": [
    "ciphertext"
   ]
  },
  {
   "cell_type": "code",
   "execution_count": 95,
   "metadata": {},
   "outputs": [
    {
     "data": {
      "text/plain": [
       "b'\\xb9\\x8c;\\x88`\\xe3\\\\\\xd9\\xba\\xc3\\xc6]C\\xb1\\xaa\\x18'"
      ]
     },
     "execution_count": 95,
     "metadata": {},
     "output_type": "execute_result"
    }
   ],
   "source": [
    "tag"
   ]
  },
  {
   "cell_type": "code",
   "execution_count": 97,
   "metadata": {},
   "outputs": [],
   "source": [
    "key = b'Sixteen byte key'\n",
    "cipher = AES.new(key, AES.MODE_EAX, nonce=nonce)\n",
    "plaintext = cipher.decrypt(ciphertext)"
   ]
  },
  {
   "cell_type": "code",
   "execution_count": 98,
   "metadata": {},
   "outputs": [
    {
     "data": {
      "text/plain": [
       "b'ola tudo bem'"
      ]
     },
     "execution_count": 98,
     "metadata": {},
     "output_type": "execute_result"
    }
   ],
   "source": [
    "plaintext"
   ]
  },
  {
   "cell_type": "code",
   "execution_count": 77,
   "metadata": {},
   "outputs": [
    {
     "name": "stdout",
     "output_type": "stream",
     "text": [
      "None\n"
     ]
    }
   ],
   "source": [
    "print(cipher.verify(tag))"
   ]
  },
  {
   "cell_type": "code",
   "execution_count": null,
   "metadata": {},
   "outputs": [],
   "source": []
  }
 ],
 "metadata": {
  "kernelspec": {
   "display_name": "Python 3",
   "language": "python",
   "name": "python3"
  },
  "language_info": {
   "codemirror_mode": {
    "name": "ipython",
    "version": 3
   },
   "file_extension": ".py",
   "mimetype": "text/x-python",
   "name": "python",
   "nbconvert_exporter": "python",
   "pygments_lexer": "ipython3",
   "version": "3.8.10"
  }
 },
 "nbformat": 4,
 "nbformat_minor": 4
}
