{
 "cells": [
  {
   "cell_type": "code",
   "execution_count": 142,
   "metadata": {},
   "outputs": [],
   "source": [
    "from Cryptodome.Cipher import AES"
   ]
  },
  {
   "cell_type": "code",
   "execution_count": 143,
   "metadata": {},
   "outputs": [],
   "source": [
    "password_key = b'This is my key12'\n",
    "password_hash = hashlib.sha256(password_key).digest()"
   ]
  },
  {
   "cell_type": "code",
   "execution_count": 144,
   "metadata": {},
   "outputs": [
    {
     "name": "stdout",
     "output_type": "stream",
     "text": [
      "password text: b'This is my key12'\n",
      "password hash: b'(\\x9a\\xb1\\x01C\\x89\\xba\\x10\\x15\\x1f\\xd6DXH\\xd4\\xe8vF\\xed\\xe1\\xe3&m\\x14\\xa8a\\x03\\x9ax\\x90\\xb5\\xf1'\n",
      "Length of password bytes is 16.\n"
     ]
    }
   ],
   "source": [
    "print(f'password text: {password_key}')\n",
    "print(f'password hash: {password_hash}')\n",
    "print(f'Length of password bytes is {len(password_key)}.')"
   ]
  },
  {
   "cell_type": "code",
   "execution_count": 158,
   "metadata": {},
   "outputs": [],
   "source": [
    "def crypto_msg(password_key: bytes, msg: bytes):\n",
    "    cipher = AES.new(password_key, AES.MODE_EAX)\n",
    "    crypto_nonce = cipher.nonce\n",
    "    msg_crypto = cipher.encrypt(msg)\n",
    "    return msg_crypto, crypto_nonce\n",
    "\n",
    "def decrypto_msg(password_key: bytes, msg_crypto: bytes, crypto_nonce: bytes):\n",
    "    cipher = AES.new(key, AES.MODE_EAX, nonce=crypto_nonce)\n",
    "    return cipher.decrypt(msg_crypto)"
   ]
  },
  {
   "cell_type": "code",
   "execution_count": 161,
   "metadata": {},
   "outputs": [
    {
     "name": "stdout",
     "output_type": "stream",
     "text": [
      "AES msg: \n",
      " b'r\\xdf\\x01H\\x9c\\xd6\\xd5 H\\x7f\\xc8\\xf4\\xaed\\x94\\xf8\\xe0\"\\xf9\\xe0)\\xf0\\xefL\\xb9R\\xb2\\x91\\xb7'\n"
     ]
    }
   ],
   "source": [
    "msg_crypto, crypto_nonce = crypto_msg(password_key, b'This is an importante message')\n",
    "print(f'AES msg: \\n {msg_crypto}')"
   ]
  },
  {
   "cell_type": "code",
   "execution_count": 162,
   "metadata": {},
   "outputs": [
    {
     "data": {
      "text/plain": [
       "b'This is an importante message'"
      ]
     },
     "execution_count": 162,
     "metadata": {},
     "output_type": "execute_result"
    }
   ],
   "source": [
    "decrypto_msg(b'This is my key12', msg_crypto, crypto_nonce)"
   ]
  }
 ],
 "metadata": {
  "kernelspec": {
   "display_name": "Python 3",
   "language": "python",
   "name": "python3"
  },
  "language_info": {
   "codemirror_mode": {
    "name": "ipython",
    "version": 3
   },
   "file_extension": ".py",
   "mimetype": "text/x-python",
   "name": "python",
   "nbconvert_exporter": "python",
   "pygments_lexer": "ipython3",
   "version": "3.8.10"
  }
 },
 "nbformat": 4,
 "nbformat_minor": 4
}
