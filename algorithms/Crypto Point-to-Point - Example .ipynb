{
 "cells": [
  {
   "cell_type": "code",
   "execution_count": 39,
   "metadata": {},
   "outputs": [],
   "source": [
    "import rsa\n",
    "import json\n",
    "import random\n",
    "import pprint \n",
    "\n",
    "pp = pprint.PrettyPrinter(depth=6)\n",
    "\n",
    "def generate_keys_criptography(len_keys: int):\n",
    "    return rsa.newkeys(len_keys)\n",
    "\n",
    "def crypto_msg(msg: str, public_key):\n",
    "    return rsa.encrypt(msg.encode('utf8'), public_key)\n",
    "\n",
    "def decrypto_msg(msg_crypto: str, private_key):\n",
    "    return rsa.decrypt(msg_crypto, private_key)"
   ]
  },
  {
   "cell_type": "code",
   "execution_count": 40,
   "metadata": {},
   "outputs": [],
   "source": [
    "name_senders = [{'name': 'Alice', 'public_key': None, 'private_key': None, 'msg': None},\n",
    "                {'name': 'Bob', 'public_key': None, 'private_key': None, 'msg': None},\n",
    "                {'name': 'Maycon', 'public_key': None, 'private_key': None, 'msg': None},\n",
    "                {'name': 'Michael', 'public_key': None, 'private_key': None, 'msg': None}]\n",
    "\n",
    "name_recipient = [{'name': 'Richard', 'public_key': None, 'private_key': None, 'msg': None},\n",
    "                  {'name': 'Peter', 'public_key': None, 'private_key': None, 'msg': None},\n",
    "                  {'name': 'Vitor', 'public_key': None, 'private_key': None, 'msg': None},\n",
    "                  {'name': 'Josh', 'public_key': None, 'private_key': None, 'msg': None}]"
   ]
  },
  {
   "cell_type": "code",
   "execution_count": 41,
   "metadata": {},
   "outputs": [
    {
     "name": "stdout",
     "output_type": "stream",
     "text": [
      "Selecting a RECIPIENT - (DESTINATION SERVER)\n",
      "Who will get the message? Richard\n",
      "\n",
      "Selecting a SENDER - (ORIGIN SERVER)\n",
      "Who will send the message? Maycon\n"
     ]
    }
   ],
   "source": [
    "print('Selecting a RECIPIENT - (DESTINATION SERVER)')\n",
    "destination = name_recipient[random.randint(0, 3)]\n",
    "print(f'Who will get the message? {destination[\"name\"]}\\n')\n",
    "\n",
    "print('Selecting a SENDER - (ORIGIN SERVER)')\n",
    "sender = name_senders[random.randint(0, 3)]\n",
    "print(f'Who will send the message? {sender[\"name\"]}')"
   ]
  },
  {
   "cell_type": "code",
   "execution_count": 47,
   "metadata": {},
   "outputs": [
    {
     "name": "stdout",
     "output_type": "stream",
     "text": [
      "Generating a message on the destination (RECIPIENT) ... \n",
      "\n",
      "{'msg': None,\n",
      " 'name': 'Richard',\n",
      " 'private_key': PrivateKey(9370602322743780546743202244096999511732191356094870595791588637105703090063021337581567922540388495554752116014572940749188204708547790161667304752886663, 65537, 7611496468391022073413913182816724476365281820198580058537458679946976486186104165777788116282603710716406440028002980777532035885872833612391188658377553, 6034417272599717534026850946793552027466522394556220183457938740109767204702669253, 1552859522209803104811447508240066337769458289953835411090798523405514971),\n",
      " 'public_key': PublicKey(9370602322743780546743202244096999511732191356094870595791588637105703090063021337581567922540388495554752116014572940749188204708547790161667304752886663, 65537)}\n"
     ]
    }
   ],
   "source": [
    "import json\n",
    "\n",
    "print('Generating a message on the destination (RECIPIENT) ... \\n')\n",
    "public_key, private_key = generate_keys_criptography(512)\n",
    "destination['public_key'] = public_key\n",
    "destination['private_key'] = private_key\n",
    "\n",
    "pp.pprint(destination)"
   ]
  },
  {
   "cell_type": "code",
   "execution_count": 48,
   "metadata": {},
   "outputs": [
    {
     "name": "stdout",
     "output_type": "stream",
     "text": [
      "Send public key to SENDER! \n",
      "\n",
      "{'msg': 'Hello Richard, How are you?',\n",
      " 'name': 'Maycon',\n",
      " 'private_key': None,\n",
      " 'public_key': PublicKey(9370602322743780546743202244096999511732191356094870595791588637105703090063021337581567922540388495554752116014572940749188204708547790161667304752886663, 65537)}\n"
     ]
    }
   ],
   "source": [
    "print('Send public key to SENDER! \\n')\n",
    "sender['public_key'] = destination['public_key']\n",
    "sender['msg'] = f\"Hello {destination['name']}, How are you?\"\n",
    "\n",
    "pp.pprint(sender)"
   ]
  },
  {
   "cell_type": "code",
   "execution_count": 11,
   "metadata": {},
   "outputs": [],
   "source": [
    "sender['msg'] = crypto_msg(sender['msg'], sender['public_key'])"
   ]
  },
  {
   "cell_type": "code",
   "execution_count": 49,
   "metadata": {},
   "outputs": [
    {
     "name": "stdout",
     "output_type": "stream",
     "text": [
      "{'msg': 'Hello Richard, How are you?',\n",
      " 'name': 'Maycon',\n",
      " 'private_key': None,\n",
      " 'public_key': PublicKey(9370602322743780546743202244096999511732191356094870595791588637105703090063021337581567922540388495554752116014572940749188204708547790161667304752886663, 65537)}\n"
     ]
    }
   ],
   "source": [
    "pp.pprint(sender)"
   ]
  },
  {
   "cell_type": "code",
   "execution_count": 51,
   "metadata": {},
   "outputs": [
    {
     "name": "stdout",
     "output_type": "stream",
     "text": [
      "SENDER SEND MSG TO DESTINATION SERVER! \n",
      "\n"
     ]
    },
    {
     "ename": "TypeError",
     "evalue": "a bytes-like object is required, not 'str'",
     "output_type": "error",
     "traceback": [
      "\u001b[0;31m---------------------------------------------------------------------------\u001b[0m",
      "\u001b[0;31mTypeError\u001b[0m                                 Traceback (most recent call last)",
      "\u001b[0;32m<ipython-input-51-8938c550be18>\u001b[0m in \u001b[0;36m<module>\u001b[0;34m\u001b[0m\n\u001b[1;32m      1\u001b[0m \u001b[0mprint\u001b[0m\u001b[0;34m(\u001b[0m\u001b[0;34m'SENDER SEND MSG TO DESTINATION SERVER! \\n'\u001b[0m\u001b[0;34m)\u001b[0m\u001b[0;34m\u001b[0m\u001b[0;34m\u001b[0m\u001b[0m\n\u001b[1;32m      2\u001b[0m \u001b[0mdestination\u001b[0m\u001b[0;34m[\u001b[0m\u001b[0;34m'msg'\u001b[0m\u001b[0;34m]\u001b[0m \u001b[0;34m=\u001b[0m \u001b[0msender\u001b[0m\u001b[0;34m[\u001b[0m\u001b[0;34m'msg'\u001b[0m\u001b[0;34m]\u001b[0m\u001b[0;34m\u001b[0m\u001b[0;34m\u001b[0m\u001b[0m\n\u001b[0;32m----> 3\u001b[0;31m \u001b[0mdestination\u001b[0m\u001b[0;34m[\u001b[0m\u001b[0;34m'msg'\u001b[0m\u001b[0;34m]\u001b[0m \u001b[0;34m=\u001b[0m \u001b[0mdecrypto_msg\u001b[0m\u001b[0;34m(\u001b[0m\u001b[0mdestination\u001b[0m\u001b[0;34m[\u001b[0m\u001b[0;34m'msg'\u001b[0m\u001b[0;34m]\u001b[0m\u001b[0;34m,\u001b[0m \u001b[0mdestination\u001b[0m\u001b[0;34m[\u001b[0m\u001b[0;34m'private_key'\u001b[0m\u001b[0;34m]\u001b[0m\u001b[0;34m)\u001b[0m\u001b[0;34m\u001b[0m\u001b[0;34m\u001b[0m\u001b[0m\n\u001b[0m\u001b[1;32m      4\u001b[0m \u001b[0mpp\u001b[0m\u001b[0;34m.\u001b[0m\u001b[0mpprint\u001b[0m\u001b[0;34m(\u001b[0m\u001b[0mdestination\u001b[0m\u001b[0;34m)\u001b[0m\u001b[0;34m\u001b[0m\u001b[0;34m\u001b[0m\u001b[0m\n",
      "\u001b[0;32m<ipython-input-39-2dd486bd9821>\u001b[0m in \u001b[0;36mdecrypto_msg\u001b[0;34m(msg_crypto, private_key)\u001b[0m\n\u001b[1;32m     13\u001b[0m \u001b[0;34m\u001b[0m\u001b[0m\n\u001b[1;32m     14\u001b[0m \u001b[0;32mdef\u001b[0m \u001b[0mdecrypto_msg\u001b[0m\u001b[0;34m(\u001b[0m\u001b[0mmsg_crypto\u001b[0m\u001b[0;34m:\u001b[0m \u001b[0mstr\u001b[0m\u001b[0;34m,\u001b[0m \u001b[0mprivate_key\u001b[0m\u001b[0;34m)\u001b[0m\u001b[0;34m:\u001b[0m\u001b[0;34m\u001b[0m\u001b[0;34m\u001b[0m\u001b[0m\n\u001b[0;32m---> 15\u001b[0;31m     \u001b[0;32mreturn\u001b[0m \u001b[0mrsa\u001b[0m\u001b[0;34m.\u001b[0m\u001b[0mdecrypt\u001b[0m\u001b[0;34m(\u001b[0m\u001b[0mmsg_crypto\u001b[0m\u001b[0;34m,\u001b[0m \u001b[0mprivate_key\u001b[0m\u001b[0;34m)\u001b[0m\u001b[0;34m\u001b[0m\u001b[0;34m\u001b[0m\u001b[0m\n\u001b[0m",
      "\u001b[0;32m~/.local/lib/python3.8/site-packages/rsa/pkcs1.py\u001b[0m in \u001b[0;36mdecrypt\u001b[0;34m(crypto, priv_key)\u001b[0m\n\u001b[1;32m    229\u001b[0m \u001b[0;34m\u001b[0m\u001b[0m\n\u001b[1;32m    230\u001b[0m     \u001b[0mblocksize\u001b[0m \u001b[0;34m=\u001b[0m \u001b[0mcommon\u001b[0m\u001b[0;34m.\u001b[0m\u001b[0mbyte_size\u001b[0m\u001b[0;34m(\u001b[0m\u001b[0mpriv_key\u001b[0m\u001b[0;34m.\u001b[0m\u001b[0mn\u001b[0m\u001b[0;34m)\u001b[0m\u001b[0;34m\u001b[0m\u001b[0;34m\u001b[0m\u001b[0m\n\u001b[0;32m--> 231\u001b[0;31m     \u001b[0mencrypted\u001b[0m \u001b[0;34m=\u001b[0m \u001b[0mtransform\u001b[0m\u001b[0;34m.\u001b[0m\u001b[0mbytes2int\u001b[0m\u001b[0;34m(\u001b[0m\u001b[0mcrypto\u001b[0m\u001b[0;34m)\u001b[0m\u001b[0;34m\u001b[0m\u001b[0;34m\u001b[0m\u001b[0m\n\u001b[0m\u001b[1;32m    232\u001b[0m     \u001b[0mdecrypted\u001b[0m \u001b[0;34m=\u001b[0m \u001b[0mpriv_key\u001b[0m\u001b[0;34m.\u001b[0m\u001b[0mblinded_decrypt\u001b[0m\u001b[0;34m(\u001b[0m\u001b[0mencrypted\u001b[0m\u001b[0;34m)\u001b[0m\u001b[0;34m\u001b[0m\u001b[0;34m\u001b[0m\u001b[0m\n\u001b[1;32m    233\u001b[0m     \u001b[0mcleartext\u001b[0m \u001b[0;34m=\u001b[0m \u001b[0mtransform\u001b[0m\u001b[0;34m.\u001b[0m\u001b[0mint2bytes\u001b[0m\u001b[0;34m(\u001b[0m\u001b[0mdecrypted\u001b[0m\u001b[0;34m,\u001b[0m \u001b[0mblocksize\u001b[0m\u001b[0;34m)\u001b[0m\u001b[0;34m\u001b[0m\u001b[0;34m\u001b[0m\u001b[0m\n",
      "\u001b[0;32m~/.local/lib/python3.8/site-packages/rsa/transform.py\u001b[0m in \u001b[0;36mbytes2int\u001b[0;34m(raw_bytes)\u001b[0m\n\u001b[1;32m     50\u001b[0m     \"\"\"\n\u001b[1;32m     51\u001b[0m \u001b[0;34m\u001b[0m\u001b[0m\n\u001b[0;32m---> 52\u001b[0;31m     \u001b[0;32mreturn\u001b[0m \u001b[0mint\u001b[0m\u001b[0;34m(\u001b[0m\u001b[0mbinascii\u001b[0m\u001b[0;34m.\u001b[0m\u001b[0mhexlify\u001b[0m\u001b[0;34m(\u001b[0m\u001b[0mraw_bytes\u001b[0m\u001b[0;34m)\u001b[0m\u001b[0;34m,\u001b[0m \u001b[0;36m16\u001b[0m\u001b[0;34m)\u001b[0m\u001b[0;34m\u001b[0m\u001b[0;34m\u001b[0m\u001b[0m\n\u001b[0m\u001b[1;32m     53\u001b[0m \u001b[0;34m\u001b[0m\u001b[0m\n\u001b[1;32m     54\u001b[0m \u001b[0;34m\u001b[0m\u001b[0m\n",
      "\u001b[0;31mTypeError\u001b[0m: a bytes-like object is required, not 'str'"
     ]
    }
   ],
   "source": [
    "print('SENDER SEND MSG TO DESTINATION SERVER! \\n')\n",
    "destination['msg'] = sender['msg']\n",
    "destination['msg'] = decrypto_msg(destination['msg'], destination['private_key'])\n",
    "pp.pprint(destination)"
   ]
  },
  {
   "cell_type": "code",
   "execution_count": null,
   "metadata": {},
   "outputs": [],
   "source": []
  }
 ],
 "metadata": {
  "kernelspec": {
   "display_name": "Python 3",
   "language": "python",
   "name": "python3"
  },
  "language_info": {
   "codemirror_mode": {
    "name": "ipython",
    "version": 3
   },
   "file_extension": ".py",
   "mimetype": "text/x-python",
   "name": "python",
   "nbconvert_exporter": "python",
   "pygments_lexer": "ipython3",
   "version": "3.8.10"
  }
 },
 "nbformat": 4,
 "nbformat_minor": 4
}
