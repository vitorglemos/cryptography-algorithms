{
 "cells": [
  {
   "cell_type": "code",
   "execution_count": 9,
   "metadata": {},
   "outputs": [],
   "source": [
    "import rsa\n",
    "import json\n",
    "import random\n",
    "import pprint \n",
    "\n",
    "pp = pprint.PrettyPrinter(depth=6)\n",
    "\n",
    "def generate_keys_criptography(len_keys: int):\n",
    "    return rsa.newkeys(len_keys)\n",
    "\n",
    "def crypto_msg(msg: str, public_key):\n",
    "    return rsa.encrypt(msg.encode('utf8'), public_key)\n",
    "\n",
    "def decrypto_msg(msg_crypto: str, private_key):\n",
    "    return rsa.decrypt(msg_crypto, private_key)"
   ]
  },
  {
   "cell_type": "code",
   "execution_count": 10,
   "metadata": {},
   "outputs": [],
   "source": [
    "name_senders = [{'name': 'Alice', 'public_key': None, 'private_key': None, 'msg': None},\n",
    "                {'name': 'Bob', 'public_key': None, 'private_key': None, 'msg': None},\n",
    "                {'name': 'Maycon', 'public_key': None, 'private_key': None, 'msg': None},\n",
    "                {'name': 'Michael', 'public_key': None, 'private_key': None, 'msg': None}]\n",
    "\n",
    "name_recipient = [{'name': 'Richard', 'public_key': None, 'private_key': None, 'msg': None},\n",
    "                  {'name': 'Peter', 'public_key': None, 'private_key': None, 'msg': None},\n",
    "                  {'name': 'Vitor', 'public_key': None, 'private_key': None, 'msg': None},\n",
    "                  {'name': 'Josh', 'public_key': None, 'private_key': None, 'msg': None}]"
   ]
  },
  {
   "cell_type": "code",
   "execution_count": 11,
   "metadata": {},
   "outputs": [
    {
     "name": "stdout",
     "output_type": "stream",
     "text": [
      "Selecting a RECIPIENT - (DESTINATION SERVER)\n",
      "Who will get the message? Peter\n",
      "\n",
      "Selecting a SENDER - (ORIGIN SERVER)\n",
      "Who will send the message? Michael\n"
     ]
    }
   ],
   "source": [
    "print('Selecting a RECIPIENT - (DESTINATION SERVER)')\n",
    "destination = name_recipient[random.randint(0, 3)]\n",
    "print(f'Who will get the message? {destination[\"name\"]}\\n')\n",
    "\n",
    "print('Selecting a SENDER - (ORIGIN SERVER)')\n",
    "sender = name_senders[random.randint(0, 3)]\n",
    "print(f'Who will send the message? {sender[\"name\"]}')"
   ]
  },
  {
   "cell_type": "code",
   "execution_count": 12,
   "metadata": {},
   "outputs": [
    {
     "name": "stdout",
     "output_type": "stream",
     "text": [
      "Generating a message on the destination (RECIPIENT) ... \n",
      "\n",
      "{'msg': None,\n",
      " 'name': 'Peter',\n",
      " 'private_key': PrivateKey(8145387815203738630974858302542148971423436845947649989679123412966241794502836064004130765445487400276711178365358162607754756943656996923743802949659777, 65537, 1580680260520944625306899124032699858378675706955799206078079429423145140537525856852534475053202520498346042480999379116077684687045239110577168355702433, 5274354219359890491413836415615301442883718794786285438840067895080924384841665797, 1544338411194590630368273661721829939520605721521195342164419049926859341),\n",
      " 'public_key': PublicKey(8145387815203738630974858302542148971423436845947649989679123412966241794502836064004130765445487400276711178365358162607754756943656996923743802949659777, 65537)}\n"
     ]
    }
   ],
   "source": [
    "import json\n",
    "\n",
    "print('Generating a message on the destination (RECIPIENT) ... \\n')\n",
    "public_key, private_key = generate_keys_criptography(512)\n",
    "destination['public_key'] = public_key\n",
    "destination['private_key'] = private_key\n",
    "\n",
    "pp.pprint(destination)"
   ]
  },
  {
   "cell_type": "code",
   "execution_count": 13,
   "metadata": {},
   "outputs": [
    {
     "name": "stdout",
     "output_type": "stream",
     "text": [
      "Send public key to SENDER! \n",
      "\n",
      "{'msg': 'Hello Peter, How are you?',\n",
      " 'name': 'Michael',\n",
      " 'private_key': None,\n",
      " 'public_key': PublicKey(8145387815203738630974858302542148971423436845947649989679123412966241794502836064004130765445487400276711178365358162607754756943656996923743802949659777, 65537)}\n"
     ]
    }
   ],
   "source": [
    "print('Send public key to SENDER! \\n')\n",
    "sender['public_key'] = destination['public_key']\n",
    "sender['msg'] = f\"Hello {destination['name']}, How are you?\"\n",
    "\n",
    "pp.pprint(sender)"
   ]
  },
  {
   "cell_type": "code",
   "execution_count": 14,
   "metadata": {},
   "outputs": [],
   "source": [
    "sender['msg'] = crypto_msg(sender['msg'], sender['public_key'])"
   ]
  },
  {
   "cell_type": "code",
   "execution_count": 15,
   "metadata": {},
   "outputs": [
    {
     "name": "stdout",
     "output_type": "stream",
     "text": [
      "{'msg': b'.\\x86\\xd6\\x0f7\\xd6\\xbb\\xf9\\xf7\\xf3\\xddP\\x8e \\x16\\xed}-\\xb5\\xde'\n",
      "        b'[A\\xce\\xe5\\xac\\x90\\xe7\\xecG/,\\xdd<,\\xcc\\n\\x1a\\xbd\\xcf=w\\xe0e?m\\xf9yB'\n",
      "        b'\\x8fj\\xdd\\xc9K\\xe8\\xc1\\x90\\xee/\\x86f\\xd6\\x7f\\x03U',\n",
      " 'name': 'Michael',\n",
      " 'private_key': None,\n",
      " 'public_key': PublicKey(8145387815203738630974858302542148971423436845947649989679123412966241794502836064004130765445487400276711178365358162607754756943656996923743802949659777, 65537)}\n"
     ]
    }
   ],
   "source": [
    "pp.pprint(sender)"
   ]
  },
  {
   "cell_type": "code",
   "execution_count": 16,
   "metadata": {},
   "outputs": [
    {
     "name": "stdout",
     "output_type": "stream",
     "text": [
      "SENDER SEND MSG TO DESTINATION SERVER! \n",
      "\n"
     ]
    },
    {
     "data": {
      "text/plain": [
       "{'name': 'Peter',\n",
       " 'public_key': PublicKey(8145387815203738630974858302542148971423436845947649989679123412966241794502836064004130765445487400276711178365358162607754756943656996923743802949659777, 65537),\n",
       " 'private_key': PrivateKey(8145387815203738630974858302542148971423436845947649989679123412966241794502836064004130765445487400276711178365358162607754756943656996923743802949659777, 65537, 1580680260520944625306899124032699858378675706955799206078079429423145140537525856852534475053202520498346042480999379116077684687045239110577168355702433, 5274354219359890491413836415615301442883718794786285438840067895080924384841665797, 1544338411194590630368273661721829939520605721521195342164419049926859341),\n",
       " 'msg': b'Hello Peter, How are you?'}"
      ]
     },
     "execution_count": 16,
     "metadata": {},
     "output_type": "execute_result"
    }
   ],
   "source": [
    "print('SENDER SEND MSG TO DESTINATION SERVER! \\n')\n",
    "destination['msg'] = sender['msg']\n",
    "destination['msg'] =  decrypto_msg(destination['msg'], destination['private_key'])\n",
    "\n",
    "destination"
   ]
  },
  {
   "cell_type": "code",
   "execution_count": null,
   "metadata": {},
   "outputs": [],
   "source": []
  }
 ],
 "metadata": {
  "kernelspec": {
   "display_name": "Python 3",
   "language": "python",
   "name": "python3"
  },
  "language_info": {
   "codemirror_mode": {
    "name": "ipython",
    "version": 3
   },
   "file_extension": ".py",
   "mimetype": "text/x-python",
   "name": "python",
   "nbconvert_exporter": "python",
   "pygments_lexer": "ipython3",
   "version": "3.8.10"
  }
 },
 "nbformat": 4,
 "nbformat_minor": 4
}
